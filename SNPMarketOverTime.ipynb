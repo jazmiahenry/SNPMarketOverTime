{
 "cells": [
  {
   "cell_type": "code",
   "execution_count": 2,
   "metadata": {},
   "outputs": [],
   "source": [
    "import pandas as pd\n",
    "def import_data():\n",
    "    raw_data = pd.read_csv(\"SNP_01-01-2000_06-02-2020.csv\", header=0) #panda dataframe\n",
    "    raw_data_df = pd.DataFrame.dropna(raw_data) #drops NA values\n",
    "    return raw_data_df"
   ]
  },
  {
   "cell_type": "code",
   "execution_count": 3,
   "metadata": {},
   "outputs": [],
   "source": [
    "SNP = import_data()"
   ]
  },
  {
   "cell_type": "code",
   "execution_count": 4,
   "metadata": {},
   "outputs": [
    {
     "data": {
      "text/html": [
       "<div>\n",
       "<style scoped>\n",
       "    .dataframe tbody tr th:only-of-type {\n",
       "        vertical-align: middle;\n",
       "    }\n",
       "\n",
       "    .dataframe tbody tr th {\n",
       "        vertical-align: top;\n",
       "    }\n",
       "\n",
       "    .dataframe thead th {\n",
       "        text-align: right;\n",
       "    }\n",
       "</style>\n",
       "<table border=\"1\" class=\"dataframe\">\n",
       "  <thead>\n",
       "    <tr style=\"text-align: right;\">\n",
       "      <th></th>\n",
       "      <th>Date</th>\n",
       "      <th>Open</th>\n",
       "      <th>High</th>\n",
       "      <th>Low</th>\n",
       "      <th>Close</th>\n",
       "      <th>Adj Close</th>\n",
       "      <th>Volume</th>\n",
       "    </tr>\n",
       "  </thead>\n",
       "  <tbody>\n",
       "    <tr>\n",
       "      <th>0</th>\n",
       "      <td>2000-03-20</td>\n",
       "      <td>1486.00</td>\n",
       "      <td>1490.50</td>\n",
       "      <td>1466.75</td>\n",
       "      <td>1478.00</td>\n",
       "      <td>1478.00</td>\n",
       "      <td>65382.0</td>\n",
       "    </tr>\n",
       "    <tr>\n",
       "      <th>1</th>\n",
       "      <td>2000-03-21</td>\n",
       "      <td>1479.00</td>\n",
       "      <td>1514.25</td>\n",
       "      <td>1463.25</td>\n",
       "      <td>1507.75</td>\n",
       "      <td>1507.75</td>\n",
       "      <td>57944.0</td>\n",
       "    </tr>\n",
       "    <tr>\n",
       "      <th>2</th>\n",
       "      <td>2000-03-22</td>\n",
       "      <td>1506.50</td>\n",
       "      <td>1525.25</td>\n",
       "      <td>1504.00</td>\n",
       "      <td>1518.00</td>\n",
       "      <td>1518.00</td>\n",
       "      <td>69275.0</td>\n",
       "    </tr>\n",
       "    <tr>\n",
       "      <th>3</th>\n",
       "      <td>2000-03-23</td>\n",
       "      <td>1516.25</td>\n",
       "      <td>1553.00</td>\n",
       "      <td>1510.00</td>\n",
       "      <td>1544.00</td>\n",
       "      <td>1544.00</td>\n",
       "      <td>63556.0</td>\n",
       "    </tr>\n",
       "    <tr>\n",
       "      <th>4</th>\n",
       "      <td>2000-03-24</td>\n",
       "      <td>1542.75</td>\n",
       "      <td>1574.25</td>\n",
       "      <td>1535.25</td>\n",
       "      <td>1555.50</td>\n",
       "      <td>1555.50</td>\n",
       "      <td>68507.0</td>\n",
       "    </tr>\n",
       "  </tbody>\n",
       "</table>\n",
       "</div>"
      ],
      "text/plain": [
       "         Date     Open     High      Low    Close  Adj Close   Volume\n",
       "0  2000-03-20  1486.00  1490.50  1466.75  1478.00    1478.00  65382.0\n",
       "1  2000-03-21  1479.00  1514.25  1463.25  1507.75    1507.75  57944.0\n",
       "2  2000-03-22  1506.50  1525.25  1504.00  1518.00    1518.00  69275.0\n",
       "3  2000-03-23  1516.25  1553.00  1510.00  1544.00    1544.00  63556.0\n",
       "4  2000-03-24  1542.75  1574.25  1535.25  1555.50    1555.50  68507.0"
      ]
     },
     "execution_count": 4,
     "metadata": {},
     "output_type": "execute_result"
    }
   ],
   "source": [
    "SNP.head()"
   ]
  },
  {
   "cell_type": "code",
   "execution_count": 5,
   "metadata": {},
   "outputs": [
    {
     "name": "stdout",
     "output_type": "stream",
     "text": [
      "            Date     Open     High      Low    Close  Adj Close       Volume\n",
      "2790  2009-03-10   674.75   721.75   673.25   716.00     716.00    2721975.0\n",
      "2791  2009-03-11   715.75   732.50   712.00   720.50     720.50    3286136.0\n",
      "2792  2009-03-12   721.25   753.00   711.25   751.50     751.50    3205708.0\n",
      "2793  2009-03-13   750.75   761.25   742.25   757.75     757.75    1983342.0\n",
      "2795  2009-03-16   754.75   774.75   750.00   757.25     757.25    1081065.0\n",
      "...          ...      ...      ...      ...      ...        ...          ...\n",
      "6201  2020-05-28  3033.75  3065.50  3019.50  3027.00    3027.00  636957194.0\n",
      "6202  2020-05-29  3026.75  3058.25  2992.00  3057.25    3057.25  657567371.0\n",
      "6203  2020-05-31  3029.75  3034.75  3008.00  3021.50    3021.50    3752735.0\n",
      "6204  2020-06-01  3035.75  3059.00  3020.50  3039.25    3039.25  524688735.0\n",
      "6205  2020-06-02  3040.75  3087.00  3039.00  3085.00    3085.00  515422459.0\n",
      "\n",
      "[2854 rows x 7 columns]\n"
     ]
    }
   ],
   "source": [
    "SNP_copy = pd.DataFrame.copy(SNP) #copy of SNP DataFrame \n",
    "Post_Rec= (SNP_copy['Date'] > '2009-03-09') #captures SNP market values after March 9, 2009\n",
    "Post_Rec= SNP_copy.loc[Post_Rec]\n",
    "print(Post_Rec)"
   ]
  },
  {
   "cell_type": "code",
   "execution_count": 6,
   "metadata": {},
   "outputs": [
    {
     "data": {
      "text/html": [
       "<div>\n",
       "<style scoped>\n",
       "    .dataframe tbody tr th:only-of-type {\n",
       "        vertical-align: middle;\n",
       "    }\n",
       "\n",
       "    .dataframe tbody tr th {\n",
       "        vertical-align: top;\n",
       "    }\n",
       "\n",
       "    .dataframe thead th {\n",
       "        text-align: right;\n",
       "    }\n",
       "</style>\n",
       "<table border=\"1\" class=\"dataframe\">\n",
       "  <thead>\n",
       "    <tr style=\"text-align: right;\">\n",
       "      <th></th>\n",
       "      <th>Date</th>\n",
       "      <th>Open</th>\n",
       "      <th>High</th>\n",
       "      <th>Low</th>\n",
       "      <th>Close</th>\n",
       "      <th>Adj Close</th>\n",
       "      <th>Volume</th>\n",
       "    </tr>\n",
       "  </thead>\n",
       "  <tbody>\n",
       "    <tr>\n",
       "      <th>2790</th>\n",
       "      <td>2009-03-10</td>\n",
       "      <td>674.75</td>\n",
       "      <td>721.75</td>\n",
       "      <td>673.25</td>\n",
       "      <td>716.00</td>\n",
       "      <td>716.00</td>\n",
       "      <td>2721975.0</td>\n",
       "    </tr>\n",
       "    <tr>\n",
       "      <th>2791</th>\n",
       "      <td>2009-03-11</td>\n",
       "      <td>715.75</td>\n",
       "      <td>732.50</td>\n",
       "      <td>712.00</td>\n",
       "      <td>720.50</td>\n",
       "      <td>720.50</td>\n",
       "      <td>3286136.0</td>\n",
       "    </tr>\n",
       "    <tr>\n",
       "      <th>2792</th>\n",
       "      <td>2009-03-12</td>\n",
       "      <td>721.25</td>\n",
       "      <td>753.00</td>\n",
       "      <td>711.25</td>\n",
       "      <td>751.50</td>\n",
       "      <td>751.50</td>\n",
       "      <td>3205708.0</td>\n",
       "    </tr>\n",
       "    <tr>\n",
       "      <th>2793</th>\n",
       "      <td>2009-03-13</td>\n",
       "      <td>750.75</td>\n",
       "      <td>761.25</td>\n",
       "      <td>742.25</td>\n",
       "      <td>757.75</td>\n",
       "      <td>757.75</td>\n",
       "      <td>1983342.0</td>\n",
       "    </tr>\n",
       "    <tr>\n",
       "      <th>2795</th>\n",
       "      <td>2009-03-16</td>\n",
       "      <td>754.75</td>\n",
       "      <td>774.75</td>\n",
       "      <td>750.00</td>\n",
       "      <td>757.25</td>\n",
       "      <td>757.25</td>\n",
       "      <td>1081065.0</td>\n",
       "    </tr>\n",
       "  </tbody>\n",
       "</table>\n",
       "</div>"
      ],
      "text/plain": [
       "            Date    Open    High     Low   Close  Adj Close     Volume\n",
       "2790  2009-03-10  674.75  721.75  673.25  716.00     716.00  2721975.0\n",
       "2791  2009-03-11  715.75  732.50  712.00  720.50     720.50  3286136.0\n",
       "2792  2009-03-12  721.25  753.00  711.25  751.50     751.50  3205708.0\n",
       "2793  2009-03-13  750.75  761.25  742.25  757.75     757.75  1983342.0\n",
       "2795  2009-03-16  754.75  774.75  750.00  757.25     757.25  1081065.0"
      ]
     },
     "execution_count": 6,
     "metadata": {},
     "output_type": "execute_result"
    }
   ],
   "source": [
    "Post_Rec.head()"
   ]
  },
  {
   "cell_type": "code",
   "execution_count": 11,
   "metadata": {},
   "outputs": [
    {
     "data": {
      "image/png": "[encoded data removed]",
      "text/plain": [
       "<Figure size 432x288 with 1 Axes>"
      ]
     },
     "metadata": {
      "needs_background": "light"
     },
     "output_type": "display_data"
    }
   ],
   "source": [
    "import matplotlib.pyplot as plt\n",
    "Post_Rec['Date'] == pd.to_datetime(Post_Rec['Date'])\n",
    "plt1 = Post_Rec.plot(x = 'Date', y = 'Adj Close')\n",
    "plt.show(plt1) "
   ]
  }
 ],
 "metadata": {
  "kernelspec": {
   "display_name": "Python 3",
   "language": "python",
   "name": "python3"
  },
  "language_info": {
   "codemirror_mode": {
    "name": "ipython",
    "version": 3
   },
   "file_extension": ".py",
   "mimetype": "text/x-python",
   "name": "python",
   "nbconvert_exporter": "python",
   "pygments_lexer": "ipython3",
   "version": "3.8.1"
  }
 },
 "nbformat": 4,
 "nbformat_minor": 4
}
